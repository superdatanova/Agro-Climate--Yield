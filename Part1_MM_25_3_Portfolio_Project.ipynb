{
 "cells": [
  {
   "cell_type": "code",
   "execution_count": 194,
   "id": "b2e599f9-ed0b-4713-9f09-0e24f8ef5b4e",
   "metadata": {},
   "outputs": [],
   "source": [
    "import pandas as pd\n",
    "import numpy as np\n",
    "from scipy import stats\n",
    "import os\n",
    "import seaborn as sns\n",
    "import matplotlib.pyplot as plt\n",
    "from sklearn.impute import SimpleImputer\n"
   ]
  },
  {
   "cell_type": "code",
   "execution_count": 251,
   "id": "e21e058c-e2fe-43ec-886f-e57f6b9a064e",
   "metadata": {},
   "outputs": [],
   "source": [
    "# Load datasets\n",
    "total_crop_data = pd.read_csv(\"yield.csv\")\n",
    "rainfall_data = pd.read_csv('rainfall.csv')\n",
    "temperature_data = pd.read_csv('temp.csv')\n",
    "pesticides_data = pd.read_csv('pesticides.csv')\n"
   ]
  },
  {
   "cell_type": "markdown",
   "id": "af10513d-d1aa-42ac-b39d-67bcf0ee7a29",
   "metadata": {},
   "source": [
    "# Data Preprocessing and Merge Steps\n",
    "1) **Preview and Check each dataset**\n",
    "2) **Check for correct Data Types**\t  -  Are columns stored as the correct type?\tEnables correct grouping, merging, and math\n",
    "3) **Check for Duplicates**           -  Are ther any duplicate rows?\tDuplicay will result in bad merge. This will help avoiding skewed analysis\n",
    "4) **Check for Column Names**\t      -  Are names consistent and readable?\tThis helps with merging and plotting, I have done this earlier, just another check\n",
    "5) **Check for Units & Formats**\t  -  Are values in the same units?\tThis Ensures fair comparisons\n",
    "6) **Check for Outliers**\t          -  Any extreme values?\tThis will result skewed distribution. May distort averages or trends\n",
    "\n",
    "Also I will check any **potential anomalies** like:\n",
    "\n",
    "1. Data type mismatches (e.g., numeric columns stored as strings)\n",
    "2. Unexpected values (e.g., negative rainfall, future years)\n",
    "3. Date inconsistencies (e.g., invalid formats or out-of-range dates)\n",
    "4. Categorical anomalies (e.g., unexpected region names or typos)\n"
   ]
  },
  {
   "cell_type": "code",
   "execution_count": 254,
   "id": "5f355408-b7e4-40f4-ae4e-f91a51bbf26d",
   "metadata": {
    "panel-layout": {
     "height": 0,
     "visible": true,
     "width": 100
    },
    "scrolled": true
   },
   "outputs": [
    {
     "name": "stdout",
     "output_type": "stream",
     "text": [
      "Yield Data:\n",
      "  Domain Code Domain  Area Code         Area  Element Code Element  Item Code  \\\n",
      "0          QC  Crops          2  Afghanistan          5419   Yield         56   \n",
      "1          QC  Crops          2  Afghanistan          5419   Yield         56   \n",
      "\n",
      "    Item  Year Code  Year   Unit  Value  \n",
      "0  Maize       1961  1961  hg/ha  14000  \n",
      "1  Maize       1962  1962  hg/ha  14000  \n",
      "\n",
      "           Area Code  Element Code     Item Code     Year Code          Year  \\\n",
      "count  56717.000000       56717.0  56717.000000  56717.000000  56717.000000   \n",
      "mean     125.650422        5419.0    111.611651   1989.669570   1989.669570   \n",
      "std       75.120195           0.0    101.278435     16.133198     16.133198   \n",
      "min        1.000000        5419.0     15.000000   1961.000000   1961.000000   \n",
      "25%       58.000000        5419.0     56.000000   1976.000000   1976.000000   \n",
      "50%      122.000000        5419.0    116.000000   1991.000000   1991.000000   \n",
      "75%      184.000000        5419.0    125.000000   2004.000000   2004.000000   \n",
      "max      351.000000        5419.0    489.000000   2016.000000   2016.000000   \n",
      "\n",
      "                Value  \n",
      "count    56717.000000  \n",
      "mean     62094.660084  \n",
      "std      67835.932856  \n",
      "min          0.000000  \n",
      "25%      15680.000000  \n",
      "50%      36744.000000  \n",
      "75%      86213.000000  \n",
      "max    1000000.000000  \n"
     ]
    }
   ],
   "source": [
    "# Preview each dataset\n",
    "\n",
    "print(\"Yield Data:\")\n",
    "print(total_crop_data.head(2))\n",
    "print(\"\\n\",total_crop_data.describe())"
   ]
  },
  {
   "cell_type": "code",
   "execution_count": 256,
   "id": "16ffc2f9-8b33-47e5-89a9-eff27270ad9b",
   "metadata": {
    "panel-layout": {
     "height": 0,
     "visible": true,
     "width": 100
    }
   },
   "outputs": [
    {
     "name": "stdout",
     "output_type": "stream",
     "text": [
      "\n",
      "Rainfall Data:\n",
      "          Area  Year average_rain_fall_mm_per_year\n",
      "0  Afghanistan  1985                           327\n",
      "1  Afghanistan  1986                           327\n",
      "\n",
      "               Year\n",
      "count  6727.000000\n",
      "mean   2001.354839\n",
      "std       9.530114\n",
      "min    1985.000000\n",
      "25%    1993.000000\n",
      "50%    2001.000000\n",
      "75%    2010.000000\n",
      "max    2017.000000\n"
     ]
    }
   ],
   "source": [
    "# Preview each dataset\n",
    " \n",
    "print(\"\\nRainfall Data:\")\n",
    "print(rainfall_data.head(2))\n",
    "print(\"\\n\",rainfall_data.describe())"
   ]
  },
  {
   "cell_type": "code",
   "execution_count": 258,
   "id": "a6f6bc92-3ff2-4839-ac5c-91f295200790",
   "metadata": {
    "panel-layout": {
     "height": 0,
     "visible": true,
     "width": 100
    }
   },
   "outputs": [
    {
     "name": "stdout",
     "output_type": "stream",
     "text": [
      "\n",
      "Temperature Data:\n",
      "   year        country  avg_temp\n",
      "0  1849  Côte D'Ivoire     25.58\n",
      "1  1850  Côte D'Ivoire     25.52\n",
      "\n",
      "                year      avg_temp\n",
      "count  71311.000000  68764.000000\n",
      "mean    1905.799007     16.183876\n",
      "std       67.102099      7.592960\n",
      "min     1743.000000    -14.350000\n",
      "25%     1858.000000      9.750000\n",
      "50%     1910.000000     16.140000\n",
      "75%     1962.000000     23.762500\n",
      "max     2013.000000     30.730000\n"
     ]
    }
   ],
   "source": [
    "# Preview each dataset\n",
    "\n",
    "print(\"\\nTemperature Data:\")\n",
    "print(temperature_data.head(2))\n",
    "print(\"\\n\",temperature_data.describe())"
   ]
  },
  {
   "cell_type": "code",
   "execution_count": 260,
   "id": "f2a298e7-bbab-4ee7-8ce5-e3e564e2b004",
   "metadata": {
    "panel-layout": {
     "height": 0,
     "visible": true,
     "width": 100
    }
   },
   "outputs": [
    {
     "name": "stdout",
     "output_type": "stream",
     "text": [
      "\n",
      "Pesticides Data:\n",
      "           Domain     Area Element                Item  Year  \\\n",
      "0  Pesticides Use  Albania     Use  Pesticides (total)  1990   \n",
      "1  Pesticides Use  Albania     Use  Pesticides (total)  1991   \n",
      "\n",
      "                           Unit  Value  \n",
      "0  tonnes of active ingredients  121.0  \n",
      "1  tonnes of active ingredients  121.0  \n",
      "\n",
      "               Year         Value\n",
      "count  4349.000000  4.349000e+03\n",
      "mean   2003.138883  2.030334e+04\n",
      "std       7.728044  1.177362e+05\n",
      "min    1990.000000  0.000000e+00\n",
      "25%    1996.000000  9.300000e+01\n",
      "50%    2003.000000  1.137560e+03\n",
      "75%    2010.000000  7.869000e+03\n",
      "max    2016.000000  1.807000e+06\n"
     ]
    }
   ],
   "source": [
    "# Preview each dataset\n",
    "\n",
    "print(\"\\nPesticides Data:\")\n",
    "print(pesticides_data.head(2))\n",
    "print(\"\\n\",pesticides_data.describe())"
   ]
  },
  {
   "cell_type": "markdown",
   "id": "e47eb296-2a81-47fb-b347-8dfdd68f1741",
   "metadata": {},
   "source": [
    "**Drop unwanted columns**"
   ]
  },
  {
   "cell_type": "code",
   "execution_count": 263,
   "id": "1fedeea7-aa38-41d4-a9c1-bd0dd2f1c9ab",
   "metadata": {},
   "outputs": [
    {
     "data": {
      "text/html": [
       "<div>\n",
       "<style scoped>\n",
       "    .dataframe tbody tr th:only-of-type {\n",
       "        vertical-align: middle;\n",
       "    }\n",
       "\n",
       "    .dataframe tbody tr th {\n",
       "        vertical-align: top;\n",
       "    }\n",
       "\n",
       "    .dataframe thead th {\n",
       "        text-align: right;\n",
       "    }\n",
       "</style>\n",
       "<table border=\"1\" class=\"dataframe\">\n",
       "  <thead>\n",
       "    <tr style=\"text-align: right;\">\n",
       "      <th></th>\n",
       "      <th>Area</th>\n",
       "      <th>Item</th>\n",
       "      <th>Year</th>\n",
       "      <th>Value</th>\n",
       "    </tr>\n",
       "  </thead>\n",
       "  <tbody>\n",
       "    <tr>\n",
       "      <th>0</th>\n",
       "      <td>Afghanistan</td>\n",
       "      <td>Maize</td>\n",
       "      <td>1961</td>\n",
       "      <td>14000</td>\n",
       "    </tr>\n",
       "    <tr>\n",
       "      <th>1</th>\n",
       "      <td>Afghanistan</td>\n",
       "      <td>Maize</td>\n",
       "      <td>1962</td>\n",
       "      <td>14000</td>\n",
       "    </tr>\n",
       "  </tbody>\n",
       "</table>\n",
       "</div>"
      ],
      "text/plain": [
       "          Area   Item  Year  Value\n",
       "0  Afghanistan  Maize  1961  14000\n",
       "1  Afghanistan  Maize  1962  14000"
      ]
     },
     "execution_count": 263,
     "metadata": {},
     "output_type": "execute_result"
    }
   ],
   "source": [
    "total_crop_data = total_crop_data.drop(['Year Code','Element Code','Element','Year Code','Area Code','Domain Code','Domain','Unit','Item Code'], axis=1)\n",
    "total_crop_data.head(2)\n"
   ]
  },
  {
   "cell_type": "code",
   "execution_count": 265,
   "id": "2207bd2e-7c91-4326-85ab-bb238ddaaa72",
   "metadata": {},
   "outputs": [
    {
     "data": {
      "text/html": [
       "<div>\n",
       "<style scoped>\n",
       "    .dataframe tbody tr th:only-of-type {\n",
       "        vertical-align: middle;\n",
       "    }\n",
       "\n",
       "    .dataframe tbody tr th {\n",
       "        vertical-align: top;\n",
       "    }\n",
       "\n",
       "    .dataframe thead th {\n",
       "        text-align: right;\n",
       "    }\n",
       "</style>\n",
       "<table border=\"1\" class=\"dataframe\">\n",
       "  <thead>\n",
       "    <tr style=\"text-align: right;\">\n",
       "      <th></th>\n",
       "      <th>Area</th>\n",
       "      <th>Year</th>\n",
       "      <th>Value</th>\n",
       "    </tr>\n",
       "  </thead>\n",
       "  <tbody>\n",
       "    <tr>\n",
       "      <th>0</th>\n",
       "      <td>Albania</td>\n",
       "      <td>1990</td>\n",
       "      <td>121.0</td>\n",
       "    </tr>\n",
       "    <tr>\n",
       "      <th>1</th>\n",
       "      <td>Albania</td>\n",
       "      <td>1991</td>\n",
       "      <td>121.0</td>\n",
       "    </tr>\n",
       "  </tbody>\n",
       "</table>\n",
       "</div>"
      ],
      "text/plain": [
       "      Area  Year  Value\n",
       "0  Albania  1990  121.0\n",
       "1  Albania  1991  121.0"
      ]
     },
     "execution_count": 265,
     "metadata": {},
     "output_type": "execute_result"
    }
   ],
   "source": [
    "pesticides_data = pesticides_data.drop(['Domain', 'Item', 'Element','Unit'], axis=1)\n",
    "pesticides_data.head(2)"
   ]
  },
  {
   "cell_type": "markdown",
   "id": "d0cead34-3cf5-49cb-8256-2616abc97f08",
   "metadata": {},
   "source": [
    "***Standardize Column Names***"
   ]
  },
  {
   "cell_type": "code",
   "execution_count": 268,
   "id": "68968efc-e626-4fa1-adce-07a11dbad355",
   "metadata": {},
   "outputs": [],
   "source": [
    "# Strip whitespace and lowercase column names\n",
    "def unify_columns(df):\n",
    "    df.columns = df.columns.str.strip().str.lower().str.replace(\" \", \"_\")\n",
    "    return df\n",
    "# I prepared this function, so that in case in future I will use Fertilizer dataset I will just call this function - Reusability\n",
    "\n",
    "total_crop_data = unify_columns(total_crop_data)\n",
    "pesticides_data = unify_columns(pesticides_data)\n",
    "rainfall_data = unify_columns(rainfall_data)\n",
    "temperature_data = unify_columns(temperature_data)\n"
   ]
  },
  {
   "cell_type": "markdown",
   "id": "daf635b3-36e4-4c9e-a334-d7e2bed6d6d6",
   "metadata": {},
   "source": [
    "**Rename Data for consistency**"
   ]
  },
  {
   "cell_type": "code",
   "execution_count": 271,
   "id": "5a0390b6-f752-46c2-9854-64495fa25177",
   "metadata": {},
   "outputs": [],
   "source": [
    "total_crop_data.rename(columns={'value': 'yield'}, inplace=True) # Renaming the Value field to Yield\n",
    "temperature_data.rename(columns={\"country\": \"area\"}, inplace=True) # Rename for consistency\n",
    "pesticides_data.rename(columns={\"value\": \"pesticides_tonnes\"}, inplace=True)\n"
   ]
  },
  {
   "cell_type": "markdown",
   "id": "a39cf8e0-59df-4d58-beb6-a99604ce550b",
   "metadata": {},
   "source": [
    "**Check Data Types**"
   ]
  },
  {
   "cell_type": "code",
   "execution_count": 274,
   "id": "f7079189-a125-45e3-aa1a-35fa2a9c25a1",
   "metadata": {},
   "outputs": [
    {
     "name": "stdout",
     "output_type": "stream",
     "text": [
      "total_crop_data type\n",
      " area     object\n",
      "item     object\n",
      "year      int64\n",
      "yield     int64\n",
      "dtype: object\n",
      "temperature_data\n",
      " year          int64\n",
      "area         object\n",
      "avg_temp    float64\n",
      "dtype: object\n",
      "pesticides_data\n",
      " area                  object\n",
      "year                   int64\n",
      "pesticides_tonnes    float64\n",
      "dtype: object\n",
      "rainfall_data\n",
      " area                             object\n",
      "year                              int64\n",
      "average_rain_fall_mm_per_year    object\n",
      "dtype: object\n"
     ]
    }
   ],
   "source": [
    "print(\"total_crop_data type\\n\", total_crop_data.dtypes)\n",
    "print(\"temperature_data\\n\",temperature_data.dtypes)\n",
    "print(\"pesticides_data\\n\",pesticides_data.dtypes)\n",
    "print(\"rainfall_data\\n\",rainfall_data.dtypes)"
   ]
  },
  {
   "cell_type": "markdown",
   "id": "be57e1a5-d409-40f2-acac-f440e50ab93a",
   "metadata": {},
   "source": [
    "**Fix Data Type**"
   ]
  },
  {
   "cell_type": "code",
   "execution_count": 277,
   "id": "abfe8132-36ed-4826-b162-83d7e43c35d2",
   "metadata": {},
   "outputs": [
    {
     "name": "stdout",
     "output_type": "stream",
     "text": [
      "area                              object\n",
      "year                               int64\n",
      "average_rain_fall_mm_per_year    float64\n",
      "dtype: object\n"
     ]
    }
   ],
   "source": [
    "#average_rain_fall_mm_per_year is object type need to change it to numeric/float\n",
    "\n",
    "rainfall_data['average_rain_fall_mm_per_year'] = pd.to_numeric(\n",
    "    rainfall_data['average_rain_fall_mm_per_year'], errors='coerce'\n",
    ")\n",
    "print(rainfall_data.dtypes)"
   ]
  },
  {
   "cell_type": "markdown",
   "id": "b18fc7e5-3fc6-4a51-9c5a-2def79ba7ad9",
   "metadata": {},
   "source": [
    "**3. Check Year Data range**"
   ]
  },
  {
   "cell_type": "code",
   "execution_count": 280,
   "id": "d106bbfc-5a0b-4909-8c68-c90e9d0ef487",
   "metadata": {
    "scrolled": true
   },
   "outputs": [
    {
     "name": "stdout",
     "output_type": "stream",
     "text": [
      "Crop year range: 1961 to 2016\n",
      "Rainfall year range: 1985 to 2017\n",
      "Temperature year range: 1743 to 2013\n",
      "Pesticides year range: 1990 to 2016\n"
     ]
    }
   ],
   "source": [
    "for df, name in [(total_crop_data, \"Crop\"), (rainfall_data, \"Rainfall\"),\n",
    "                 (temperature_data, \"Temperature\"), (pesticides_data, \"Pesticides\")]:\n",
    "    print(f\"{name} year range: {df['year'].min()} to {df['year'].max()}\")"
   ]
  },
  {
   "cell_type": "markdown",
   "id": "2cad15c0-3059-49f0-bdbb-0552e399a957",
   "metadata": {},
   "source": [
    "**Fix 'Year' Data range - starts from 1961**"
   ]
  },
  {
   "cell_type": "code",
   "execution_count": 283,
   "id": "43042173-ae66-42d6-b3d4-0b32aa639e46",
   "metadata": {},
   "outputs": [
    {
     "name": "stdout",
     "output_type": "stream",
     "text": [
      "temperature_data count  year        18285\n",
      "area        18285\n",
      "avg_temp    18285\n",
      "dtype: int64\n"
     ]
    }
   ],
   "source": [
    "#Temperature data for year 1743 is not needed in our scope of crop data avialable, which starts from 1961, \n",
    "#so dropping rows year value of less than this.\n",
    "\n",
    "#print((temperature_data[temperature_data['year'] < 1961]).count())  #53026 rows\n",
    "temperature_data = temperature_data[temperature_data['year'] >= 1961]  # To align with crop data,yield file - year\n",
    "print(\"temperature_data count \",temperature_data.count()) #count\t71311.000000 - 53026 = 18285\n"
   ]
  },
  {
   "cell_type": "code",
   "execution_count": 285,
   "id": "42e72863-50bf-4034-8dd6-c20305fd2f35",
   "metadata": {},
   "outputs": [],
   "source": [
    "#total_crop_data = total_crop_data[total_crop_data['yield'] > 0]\n",
    "#total_crop_data.describe()"
   ]
  },
  {
   "cell_type": "markdown",
   "id": "8d3cb665-cde2-4c1f-abbb-457d901d8d00",
   "metadata": {},
   "source": [
    "# Check Duplicates and drop the extra rows"
   ]
  },
  {
   "cell_type": "code",
   "execution_count": 292,
   "id": "45496f63-68b1-47bb-b85a-55f2ae3cac7b",
   "metadata": {},
   "outputs": [
    {
     "name": "stdout",
     "output_type": "stream",
     "text": [
      "Total_crop_data Duplicates: 0\n",
      "Pesticides_data Duplicates: 0\n",
      "Rainfall_data Duplicates: 0\n",
      "Temperature_data Duplicates: 11024\n"
     ]
    }
   ],
   "source": [
    "print(\"Total_crop_data Duplicates:\", total_crop_data.duplicated(subset=['area', 'item', 'year']).sum())\n",
    "\n",
    "print(\"Pesticides_data Duplicates:\", pesticides_data.duplicated(subset=['area', 'year']).sum())\n",
    "\n",
    "print(\"Rainfall_data Duplicates:\", rainfall_data.duplicated(subset=['area', 'year']).sum())\n",
    "\n",
    "print(\"Temperature_data Duplicates:\", temperature_data.duplicated(subset=['area', 'year']).sum())"
   ]
  },
  {
   "cell_type": "code",
   "execution_count": 294,
   "id": "2bcb96eb-66b7-4d83-a5ea-b5e64f7f87fe",
   "metadata": {},
   "outputs": [],
   "source": [
    "#drop_duplicates"
   ]
  },
  {
   "cell_type": "code",
   "execution_count": 296,
   "id": "079c0aba-330e-4cb9-a962-475f80952863",
   "metadata": {},
   "outputs": [],
   "source": [
    "temperature_data = temperature_data.drop_duplicates(subset=['area', 'year'], keep='last')"
   ]
  },
  {
   "cell_type": "code",
   "execution_count": 298,
   "id": "c2e594ed-93af-47ed-b944-e75546ed9142",
   "metadata": {},
   "outputs": [
    {
     "name": "stdout",
     "output_type": "stream",
     "text": [
      "Remaining Duplicates: 0\n",
      "Temperature_data count year        7261\n",
      "area        7261\n",
      "avg_temp    7261\n",
      "dtype: int64\n"
     ]
    }
   ],
   "source": [
    "print(\"Remaining Duplicates:\", temperature_data.duplicated(subset=['area', 'year']).sum())\n",
    "print(\"Temperature_data count\",temperature_data.count())"
   ]
  },
  {
   "cell_type": "markdown",
   "id": "fdc5412d-6a9d-4fd0-8e64-d7e3436befa2",
   "metadata": {},
   "source": [
    "# Checking for Missing values"
   ]
  },
  {
   "cell_type": "code",
   "execution_count": 301,
   "id": "049c7221-36f5-4418-84fc-31a6f982e36a",
   "metadata": {},
   "outputs": [
    {
     "name": "stdout",
     "output_type": "stream",
     "text": [
      "\n",
      "Crop Missing Values:\n",
      "area     0\n",
      "item     0\n",
      "year     0\n",
      "yield    0\n",
      "dtype: int64\n",
      "\n",
      "Rainfall Missing Values:\n",
      "area                               0\n",
      "year                               0\n",
      "average_rain_fall_mm_per_year    780\n",
      "dtype: int64\n",
      "\n",
      "Temperature Missing Values:\n",
      "year        0\n",
      "area        0\n",
      "avg_temp    0\n",
      "dtype: int64\n",
      "\n",
      "Pesticides Missing Values:\n",
      "area                 0\n",
      "year                 0\n",
      "pesticides_tonnes    0\n",
      "dtype: int64\n"
     ]
    }
   ],
   "source": [
    "for df, name in [(total_crop_data, \"Crop\"), (rainfall_data, \"Rainfall\"),\n",
    "                 (temperature_data, \"Temperature\"), (pesticides_data, \"Pesticides\")]:\n",
    "    print(f\"\\n{name} Missing Values:\")\n",
    "    print(df.isnull().sum())"
   ]
  },
  {
   "cell_type": "markdown",
   "id": "e099fb20-2417-49a2-884c-280b2bcabdc1",
   "metadata": {},
   "source": [
    "# **Handling Missing Values**\n",
    "\n",
    "Choose from **Drop, Impute, or Bootstrap**"
   ]
  },
  {
   "cell_type": "markdown",
   "id": "693d260a-b1f1-4215-9cec-7db93cf81b0c",
   "metadata": {},
   "source": [
    "# Comparision of Mean Median and Bootsrtapping method\n"
   ]
  },
  {
   "cell_type": "code",
   "execution_count": 314,
   "id": "e5be4635-bfd4-4076-8289-d4e8aa43bb39",
   "metadata": {},
   "outputs": [],
   "source": [
    "\n",
    "data = rainfall_data[['average_rain_fall_mm_per_year']].copy()\n",
    "data.rename(columns={'average_rain_fall_mm_per_year': 'Rainfall'}, inplace=True)\n",
    "\n",
    "# Mean imputation\n",
    "mean_imputer = SimpleImputer(strategy='mean')\n",
    "data['Mean_Imputed'] = mean_imputer.fit_transform(data[['Rainfall']])\n",
    "\n",
    "# Median imputation\n",
    "median_imputer = SimpleImputer(strategy='median')\n",
    "data['Median_Imputed'] = median_imputer.fit_transform(data[['Rainfall']])\n",
    "\n",
    "# Bootstrap imputation: sample with replacement from non-missing values\n",
    "bootstrap_values = data['Rainfall'].dropna().sample(n=data['Rainfall'].isna().sum(), replace=True).values\n",
    "bootstrap_imputed = data['Rainfall'].copy()\n",
    "bootstrap_imputed[data['Rainfall'].isna()] = bootstrap_values\n",
    "data['Bootstrap_Imputed'] = bootstrap_imputed\n",
    "\n"
   ]
  },
  {
   "cell_type": "code",
   "execution_count": 316,
   "id": "b359fa08-597b-4532-a216-7cd1863c3d35",
   "metadata": {},
   "outputs": [
    {
     "data": {
      "text/plain": [
       "<Figure size 1200x600 with 0 Axes>"
      ]
     },
     "metadata": {},
     "output_type": "display_data"
    },
    {
     "data": {
      "image/png": "[encoded data removed]",
      "text/plain": [
       "<Figure size 640x480 with 1 Axes>"
      ]
     },
     "metadata": {},
     "output_type": "display_data"
    }
   ],
   "source": [
    "\n",
    "plot_df = pd.DataFrame({\n",
    "    'Original': data['Rainfall'],\n",
    "    'Mean Imputed': data['Mean_Imputed'],\n",
    "    'Median Imputed': data['Median_Imputed'],\n",
    "    'Bootstrap Imputed': data['Bootstrap_Imputed']\n",
    "})\n",
    "\n",
    "# Define bins for grouping rainfall values\n",
    "bins = np.linspace(0, plot_df.max().max(), 10)\n",
    "labels = [f\"{round(bins[i],1)}-{round(bins[i+1],1)}\" for i in range(len(bins)-1)]\n",
    "\n",
    "# Count values in each bin for each method\n",
    "binned_df = pd.DataFrame()\n",
    "for col in plot_df.columns:\n",
    "    binned = pd.cut(plot_df[col], bins=bins, labels=labels, include_lowest=True)\n",
    "    binned_df[col] = binned.value_counts().sort_index()\n",
    "\n",
    "# Plot the bar chart\n",
    "plt.figure(figsize=(12, 6))\n",
    "binned_df.plot(kind='bar')\n",
    "plt.title('Rainfall Distribution Comparison: Original vs Imputation Methods')\n",
    "plt.xlabel('Rainfall Range (mm)')\n",
    "plt.ylabel('Frequency')\n",
    "plt.xticks(rotation=45)\n",
    "plt.tight_layout()\n",
    "\n"
   ]
  },
  {
   "cell_type": "markdown",
   "id": "136b4454-2beb-42a6-be62-97862d33bc36",
   "metadata": {},
   "source": [
    "# Chosing Bootstrap Imputation\n",
    "\n",
    "Unlike mean or median imputation, which can flatten variability, bootstrap keeps the natural spread and shape of the data\n",
    "It avoids Bias. So I will chose Bootstrapped data as my final data before merging."
   ]
  },
  {
   "cell_type": "markdown",
   "id": "ba57c312-4ea9-4c9d-87d1-b7f45a401c67",
   "metadata": {},
   "source": [
    "# Apply bootstrap imputation to missing rows only"
   ]
  },
  {
   "cell_type": "code",
   "execution_count": 331,
   "id": "ad806790-f164-40cd-95db-1d6ab7ff2a00",
   "metadata": {},
   "outputs": [
    {
     "name": "stdout",
     "output_type": "stream",
     "text": [
      "Null values or Missing values:\n",
      " area                             0\n",
      "year                             0\n",
      "average_rain_fall_mm_per_year    0\n",
      "dtype: int64\n"
     ]
    },
    {
     "data": {
      "text/plain": [
       "(6727, 3)"
      ]
     },
     "execution_count": 331,
     "metadata": {},
     "output_type": "execute_result"
    }
   ],
   "source": [
    "\n",
    "rainfall_data.loc[rainfall_data['average_rain_fall_mm_per_year'].isna(), 'average_rain_fall_mm_per_year'] = data['Bootstrap_Imputed']\n",
    "print(\"Null values or Missing values:\\n\",rainfall_data.isnull().sum())\n",
    "rainfall_data.shape\n"
   ]
  },
  {
   "cell_type": "markdown",
   "id": "b3beb923-b506-4e02-94f1-2798d93d077f",
   "metadata": {},
   "source": [
    "#  Check for Outliers"
   ]
  },
  {
   "cell_type": "code",
   "execution_count": 335,
   "id": "906a2f5a-a329-4522-b671-cc105f4fbad0",
   "metadata": {},
   "outputs": [],
   "source": [
    "\n",
    "def visualize_outliers(df, column, title):\n",
    "  \n",
    "    # Calculate IQR and identify outliers\n",
    "    Q1 = df[column].quantile(0.01)\n",
    "    Q3 = df[column].quantile(0.99)\n",
    "    IQR = Q3 - Q1\n",
    "    lower = Q1 - 1.5 * IQR\n",
    "    upper = Q3 + 1.5 * IQR\n",
    "\n",
    "    # Identify outliers\n",
    "    outliers = df[(df[column] < lower) | (df[column] > upper)][column]\n",
    "    print(f\"{title}: {len(outliers)} outliers\")\n",
    "    print(f\"\\n{title}: {outliers} outliers\")\n",
    "    return lower, upper, outliers\n"
   ]
  },
  {
   "cell_type": "code",
   "execution_count": 337,
   "id": "cbe33956-7d30-49c7-8d9f-e65336aedde2",
   "metadata": {},
   "outputs": [
    {
     "name": "stdout",
     "output_type": "stream",
     "text": [
      "Rainfall (mm/year): 0 outliers\n",
      "\n",
      "Rainfall (mm/year): Series([], Name: average_rain_fall_mm_per_year, dtype: float64) outliers\n"
     ]
    }
   ],
   "source": [
    "\n",
    "lower, upper, outliers = visualize_outliers(rainfall_data, 'average_rain_fall_mm_per_year', 'Rainfall (mm/year)')\n"
   ]
  },
  {
   "cell_type": "code",
   "execution_count": 339,
   "id": "8890b78d-46a1-4e63-97f1-e2d3f26d9cf2",
   "metadata": {},
   "outputs": [
    {
     "name": "stdout",
     "output_type": "stream",
     "text": [
      "Temperature (°C): 0 outliers\n",
      "\n",
      "Temperature (°C): Series([], Name: avg_temp, dtype: float64) outliers\n"
     ]
    }
   ],
   "source": [
    "\n",
    "lower, upper, outliers = visualize_outliers(temperature_data, 'avg_temp', 'Temperature (°C)')\n"
   ]
  },
  {
   "cell_type": "code",
   "execution_count": 341,
   "id": "c78cc255-ba59-4d51-8a8b-d7705c64bc40",
   "metadata": {},
   "outputs": [
    {
     "name": "stdout",
     "output_type": "stream",
     "text": [
      "Pesticides Usage (tonnes): 22 outliers\n",
      "\n",
      "Pesticides Usage (tonnes): 890    1087044.0\n",
      "891    1140812.0\n",
      "892    1195466.0\n",
      "893    1231699.0\n",
      "894    1321620.0\n",
      "895    1279533.0\n",
      "896    1274820.0\n",
      "897    1312285.0\n",
      "898    1325226.0\n",
      "899    1386028.0\n",
      "900    1460000.0\n",
      "901    1537000.0\n",
      "902    1623000.0\n",
      "903    1672300.0\n",
      "904    1709000.0\n",
      "905    1758000.0\n",
      "906    1787002.0\n",
      "907    1806000.0\n",
      "908    1801862.0\n",
      "909    1807000.0\n",
      "910    1763000.0\n",
      "911    1763000.0\n",
      "Name: pesticides_tonnes, dtype: float64 outliers\n"
     ]
    }
   ],
   "source": [
    "\n",
    "lower, upper, outliers = visualize_outliers(pesticides_data, 'pesticides_tonnes', 'Pesticides Usage (tonnes)')\n"
   ]
  },
  {
   "cell_type": "markdown",
   "id": "f58142f9-ec16-47a0-9b7c-c6092c86fa4e",
   "metadata": {},
   "source": [
    "#These data of Pesticides with 22 extreme data, doesn't look like true outliers, so I am going to keep these in the database."
   ]
  },
  {
   "cell_type": "code",
   "execution_count": 344,
   "id": "50f8595c-19fb-4c7f-9192-44f39a40cd97",
   "metadata": {},
   "outputs": [
    {
     "name": "stdout",
     "output_type": "stream",
     "text": [
      "Crop Yield (tonnes): 1 outliers\n",
      "\n",
      "Crop Yield (tonnes): 27930    1000000\n",
      "Name: yield, dtype: int64 outliers\n"
     ]
    }
   ],
   "source": [
    "lower, upper, outliers = visualize_outliers(total_crop_data, 'yield', 'Crop Yield (tonnes)')\n"
   ]
  },
  {
   "cell_type": "markdown",
   "id": "77aefed7-dcb2-48e5-9997-748b63969725",
   "metadata": {},
   "source": [
    "Rainfall (mm/year): 0 outliers\n",
    "Temperature (°C): 0 outliers\n",
    "Pesticides Usage (tonnes): **22 outliers - no action**\n",
    "Crop Yield (tonnes): ***1 outliers - True outlier***\n"
   ]
  },
  {
   "cell_type": "code",
   "execution_count": 347,
   "id": "2d8669dd-f92a-48a2-91f6-e30f9024e147",
   "metadata": {
    "scrolled": true
   },
   "outputs": [
    {
     "name": "stdout",
     "output_type": "stream",
     "text": [
      "Crop Yield (tonnes): 1 outliers\n",
      "\n",
      "Crop Yield (tonnes): 27930    1000000\n",
      "Name: yield, dtype: int64 outliers\n"
     ]
    },
    {
     "data": {
      "image/png": "[encoded data removed]",
      "text/plain": [
       "<Figure size 600x400 with 1 Axes>"
      ]
     },
     "metadata": {},
     "output_type": "display_data"
    }
   ],
   "source": [
    "lower_bound, upper_bound, outliers = visualize_outliers(total_crop_data, 'yield', 'Crop Yield (tonnes)')\n",
    "\n",
    "#print(outliers)\n",
    "\n",
    "sns.set(style=\"whitegrid\")\n",
    "\n",
    "# Plot histogram\n",
    "plt.figure(figsize=(6,4))\n",
    "sns.histplot(total_crop_data['yield'], bins=10, kde=True, color=\"skyblue\")\n",
    "plt.axvline(lower_bound, color='red', linestyle='--', label='Lower Bound')\n",
    "plt.axvline(upper_bound, color='red', linestyle='--', label='Upper Bound')\n",
    "plt.scatter(outliers, [0.01]*len(outliers), color='red', label='Outliers', zorder=5)\n",
    "plt.title('Histogram of Total Crop Data (tonnes)')\n",
    "plt.xlabel('Yield (tonnes)')\n",
    "plt.ylabel('Frequency')\n",
    "plt.legend()\n",
    "plt.show() \n"
   ]
  },
  {
   "cell_type": "code",
   "execution_count": null,
   "id": "c850a26b-cab6-4e52-84d4-328e930b830c",
   "metadata": {},
   "outputs": [],
   "source": []
  },
  {
   "cell_type": "markdown",
   "id": "2e9ee90f-34eb-4c9f-a4b8-91aaa0c9ae22",
   "metadata": {},
   "source": [
    "**Drop this outlier from the Crop Yield dataset**"
   ]
  },
  {
   "cell_type": "code",
   "execution_count": 1644,
   "id": "4f68e8c8-18f8-404a-bc40-c3f82308871b",
   "metadata": {},
   "outputs": [],
   "source": [
    "# Remove rows where 'yield' equals 1000000\n",
    "# Remove rows using index from the outliers DataFrame\n",
    "total_crop_data = total_crop_data.drop(outliers.index)"
   ]
  },
  {
   "cell_type": "code",
   "execution_count": 1647,
   "id": "a04afd50-9ff4-4466-83eb-f220cdf62df8",
   "metadata": {},
   "outputs": [
    {
     "name": "stdout",
     "output_type": "stream",
     "text": [
      "Crop Yield (tonnes): 0 outliers\n",
      "\n",
      "Crop Yield (tonnes): Series([], Name: yield, dtype: int64) outliers\n"
     ]
    }
   ],
   "source": [
    "lower, upper, outliers = visualize_outliers(total_crop_data, 'yield', 'Crop Yield (tonnes)')"
   ]
  },
  {
   "cell_type": "code",
   "execution_count": null,
   "id": "56847860-2f89-4e1b-a7e4-67a10b022ae6",
   "metadata": {},
   "outputs": [],
   "source": []
  },
  {
   "cell_type": "markdown",
   "id": "e814a1fc-1dd0-4672-a970-17596c66587d",
   "metadata": {},
   "source": [
    "# Aggregate Data by Area and Year\n"
   ]
  },
  {
   "cell_type": "code",
   "execution_count": 350,
   "id": "5daa930e-05ca-4eff-b0ff-522939a85daf",
   "metadata": {},
   "outputs": [
    {
     "name": "stdout",
     "output_type": "stream",
     "text": [
      "\n",
      "Aggregated Rainfall Data Info:\n",
      "<class 'pandas.core.frame.DataFrame'>\n",
      "RangeIndex: 6727 entries, 0 to 6726\n",
      "Data columns (total 3 columns):\n",
      " #   Column                         Non-Null Count  Dtype  \n",
      "---  ------                         --------------  -----  \n",
      " 0   area                           6727 non-null   object \n",
      " 1   year                           6727 non-null   int64  \n",
      " 2   average_rain_fall_mm_per_year  6727 non-null   float64\n",
      "dtypes: float64(1), int64(1), object(1)\n",
      "memory usage: 157.8+ KB\n",
      "\n",
      "Aggregated temperature Data Info:\n",
      "<class 'pandas.core.frame.DataFrame'>\n",
      "RangeIndex: 7261 entries, 0 to 7260\n",
      "Data columns (total 3 columns):\n",
      " #   Column    Non-Null Count  Dtype  \n",
      "---  ------    --------------  -----  \n",
      " 0   area      7261 non-null   object \n",
      " 1   year      7261 non-null   int64  \n",
      " 2   avg_temp  7261 non-null   float64\n",
      "dtypes: float64(1), int64(1), object(1)\n",
      "memory usage: 170.3+ KB\n",
      "\n",
      "Aggregated Pesticides Data Info:\n",
      "<class 'pandas.core.frame.DataFrame'>\n",
      "RangeIndex: 4349 entries, 0 to 4348\n",
      "Data columns (total 3 columns):\n",
      " #   Column             Non-Null Count  Dtype  \n",
      "---  ------             --------------  -----  \n",
      " 0   area               4349 non-null   object \n",
      " 1   year               4349 non-null   int64  \n",
      " 2   pesticides_tonnes  4349 non-null   float64\n",
      "dtypes: float64(1), int64(1), object(1)\n",
      "memory usage: 102.1+ KB\n"
     ]
    }
   ],
   "source": [
    "# Aggregate rainfall data by Area and Year\n",
    "aggregated_rainfall_data = rainfall_data.groupby(['area', 'year'], as_index=False).agg({\n",
    "    'average_rain_fall_mm_per_year': 'mean'\n",
    "})\n",
    "print(\"\\nAggregated Rainfall Data Info:\")\n",
    "aggregated_rainfall_data.info()\n",
    "\n",
    "# Aggregate temperature data by Area and Year\n",
    "aggregated_temperature_data = temperature_data.groupby(['area', 'year'], as_index=False).agg({\n",
    "    'avg_temp': 'mean'\n",
    "})\n",
    "print(\"\\nAggregated temperature Data Info:\")\n",
    "aggregated_temperature_data.info()\n",
    "\n",
    "# Aggregate pesticides data by Area and Year\n",
    "aggregated_pesticides_data = pesticides_data.groupby(['area', 'year'], as_index=False).agg({'pesticides_tonnes': 'mean'})\n",
    "print(\"\\nAggregated Pesticides Data Info:\")\n",
    "aggregated_pesticides_data.info()\n",
    "\n",
    "    "
   ]
  },
  {
   "cell_type": "markdown",
   "id": "731d6403-843b-4dfa-85be-ca8d6bed875a",
   "metadata": {},
   "source": [
    "# MERGE DATA"
   ]
  },
  {
   "cell_type": "code",
   "execution_count": 352,
   "id": "1069d911-4618-4aa3-881d-3088921efecf",
   "metadata": {},
   "outputs": [
    {
     "data": {
      "text/html": [
       "<div>\n",
       "<style scoped>\n",
       "    .dataframe tbody tr th:only-of-type {\n",
       "        vertical-align: middle;\n",
       "    }\n",
       "\n",
       "    .dataframe tbody tr th {\n",
       "        vertical-align: top;\n",
       "    }\n",
       "\n",
       "    .dataframe thead th {\n",
       "        text-align: right;\n",
       "    }\n",
       "</style>\n",
       "<table border=\"1\" class=\"dataframe\">\n",
       "  <thead>\n",
       "    <tr style=\"text-align: right;\">\n",
       "      <th></th>\n",
       "      <th>year</th>\n",
       "      <th>yield</th>\n",
       "    </tr>\n",
       "  </thead>\n",
       "  <tbody>\n",
       "    <tr>\n",
       "      <th>count</th>\n",
       "      <td>56717.000000</td>\n",
       "      <td>56717.000000</td>\n",
       "    </tr>\n",
       "    <tr>\n",
       "      <th>mean</th>\n",
       "      <td>1989.669570</td>\n",
       "      <td>62094.660084</td>\n",
       "    </tr>\n",
       "    <tr>\n",
       "      <th>std</th>\n",
       "      <td>16.133198</td>\n",
       "      <td>67835.932856</td>\n",
       "    </tr>\n",
       "    <tr>\n",
       "      <th>min</th>\n",
       "      <td>1961.000000</td>\n",
       "      <td>0.000000</td>\n",
       "    </tr>\n",
       "    <tr>\n",
       "      <th>25%</th>\n",
       "      <td>1976.000000</td>\n",
       "      <td>15680.000000</td>\n",
       "    </tr>\n",
       "    <tr>\n",
       "      <th>50%</th>\n",
       "      <td>1991.000000</td>\n",
       "      <td>36744.000000</td>\n",
       "    </tr>\n",
       "    <tr>\n",
       "      <th>75%</th>\n",
       "      <td>2004.000000</td>\n",
       "      <td>86213.000000</td>\n",
       "    </tr>\n",
       "    <tr>\n",
       "      <th>max</th>\n",
       "      <td>2016.000000</td>\n",
       "      <td>1000000.000000</td>\n",
       "    </tr>\n",
       "  </tbody>\n",
       "</table>\n",
       "</div>"
      ],
      "text/plain": [
       "               year           yield\n",
       "count  56717.000000    56717.000000\n",
       "mean    1989.669570    62094.660084\n",
       "std       16.133198    67835.932856\n",
       "min     1961.000000        0.000000\n",
       "25%     1976.000000    15680.000000\n",
       "50%     1991.000000    36744.000000\n",
       "75%     2004.000000    86213.000000\n",
       "max     2016.000000  1000000.000000"
      ]
     },
     "execution_count": 352,
     "metadata": {},
     "output_type": "execute_result"
    }
   ],
   "source": [
    "total_crop_data.describe()"
   ]
  },
  {
   "cell_type": "code",
   "execution_count": 354,
   "id": "9be9d8c8-80f3-43ed-a9c6-e714b8ae0d30",
   "metadata": {},
   "outputs": [
    {
     "data": {
      "text/plain": [
       "area     56717\n",
       "item     56717\n",
       "year     56717\n",
       "yield    56717\n",
       "dtype: int64"
      ]
     },
     "execution_count": 354,
     "metadata": {},
     "output_type": "execute_result"
    }
   ],
   "source": [
    "total_crop_data.count()\n"
   ]
  },
  {
   "cell_type": "code",
   "execution_count": 356,
   "id": "507a852b-6395-4e01-8f8d-f237bf3915f4",
   "metadata": {},
   "outputs": [
    {
     "data": {
      "text/plain": [
       "area        7261\n",
       "year        7261\n",
       "avg_temp    7261\n",
       "dtype: int64"
      ]
     },
     "execution_count": 356,
     "metadata": {},
     "output_type": "execute_result"
    }
   ],
   "source": [
    "aggregated_temperature_data.count()"
   ]
  },
  {
   "cell_type": "code",
   "execution_count": 358,
   "id": "b3fb55df-5969-4186-8fc8-b48dbc6d184e",
   "metadata": {},
   "outputs": [
    {
     "data": {
      "text/plain": [
       "area                 4349\n",
       "year                 4349\n",
       "pesticides_tonnes    4349\n",
       "dtype: int64"
      ]
     },
     "execution_count": 358,
     "metadata": {},
     "output_type": "execute_result"
    }
   ],
   "source": [
    "aggregated_pesticides_data.count()\n"
   ]
  },
  {
   "cell_type": "code",
   "execution_count": 360,
   "id": "e549e6f1-ee63-4844-b368-c445ec6f58aa",
   "metadata": {},
   "outputs": [
    {
     "data": {
      "text/html": [
       "<div>\n",
       "<style scoped>\n",
       "    .dataframe tbody tr th:only-of-type {\n",
       "        vertical-align: middle;\n",
       "    }\n",
       "\n",
       "    .dataframe tbody tr th {\n",
       "        vertical-align: top;\n",
       "    }\n",
       "\n",
       "    .dataframe thead th {\n",
       "        text-align: right;\n",
       "    }\n",
       "</style>\n",
       "<table border=\"1\" class=\"dataframe\">\n",
       "  <thead>\n",
       "    <tr style=\"text-align: right;\">\n",
       "      <th></th>\n",
       "      <th>year</th>\n",
       "      <th>average_rain_fall_mm_per_year</th>\n",
       "    </tr>\n",
       "  </thead>\n",
       "  <tbody>\n",
       "    <tr>\n",
       "      <th>count</th>\n",
       "      <td>6727.000000</td>\n",
       "      <td>6727.000000</td>\n",
       "    </tr>\n",
       "    <tr>\n",
       "      <th>mean</th>\n",
       "      <td>2001.354839</td>\n",
       "      <td>1128.217630</td>\n",
       "    </tr>\n",
       "    <tr>\n",
       "      <th>std</th>\n",
       "      <td>9.530114</td>\n",
       "      <td>787.300471</td>\n",
       "    </tr>\n",
       "    <tr>\n",
       "      <th>min</th>\n",
       "      <td>1985.000000</td>\n",
       "      <td>51.000000</td>\n",
       "    </tr>\n",
       "    <tr>\n",
       "      <th>25%</th>\n",
       "      <td>1993.000000</td>\n",
       "      <td>536.000000</td>\n",
       "    </tr>\n",
       "    <tr>\n",
       "      <th>50%</th>\n",
       "      <td>2001.000000</td>\n",
       "      <td>1010.000000</td>\n",
       "    </tr>\n",
       "    <tr>\n",
       "      <th>75%</th>\n",
       "      <td>2010.000000</td>\n",
       "      <td>1651.000000</td>\n",
       "    </tr>\n",
       "    <tr>\n",
       "      <th>max</th>\n",
       "      <td>2017.000000</td>\n",
       "      <td>3240.000000</td>\n",
       "    </tr>\n",
       "  </tbody>\n",
       "</table>\n",
       "</div>"
      ],
      "text/plain": [
       "              year  average_rain_fall_mm_per_year\n",
       "count  6727.000000                    6727.000000\n",
       "mean   2001.354839                    1128.217630\n",
       "std       9.530114                     787.300471\n",
       "min    1985.000000                      51.000000\n",
       "25%    1993.000000                     536.000000\n",
       "50%    2001.000000                    1010.000000\n",
       "75%    2010.000000                    1651.000000\n",
       "max    2017.000000                    3240.000000"
      ]
     },
     "execution_count": 360,
     "metadata": {},
     "output_type": "execute_result"
    }
   ],
   "source": [
    "aggregated_rainfall_data.describe()"
   ]
  },
  {
   "cell_type": "code",
   "execution_count": 366,
   "id": "976bef9c-7ff5-4aff-9c2c-cf55b16a3332",
   "metadata": {},
   "outputs": [
    {
     "name": "stdout",
     "output_type": "stream",
     "text": [
      "      area   item  year  yield  average_rain_fall_mm_per_year  avg_temp  \\\n",
      "0  Albania  Maize  1990  36613                         1485.0     16.37   \n",
      "1  Albania  Maize  1991  29068                         1485.0     15.36   \n",
      "\n",
      "   pesticides_tonnes  \n",
      "0              121.0  \n",
      "1              121.0  \n"
     ]
    },
    {
     "data": {
      "text/html": [
       "<div>\n",
       "<style scoped>\n",
       "    .dataframe tbody tr th:only-of-type {\n",
       "        vertical-align: middle;\n",
       "    }\n",
       "\n",
       "    .dataframe tbody tr th {\n",
       "        vertical-align: top;\n",
       "    }\n",
       "\n",
       "    .dataframe thead th {\n",
       "        text-align: right;\n",
       "    }\n",
       "</style>\n",
       "<table border=\"1\" class=\"dataframe\">\n",
       "  <thead>\n",
       "    <tr style=\"text-align: right;\">\n",
       "      <th></th>\n",
       "      <th>year</th>\n",
       "      <th>yield</th>\n",
       "      <th>average_rain_fall_mm_per_year</th>\n",
       "      <th>avg_temp</th>\n",
       "      <th>pesticides_tonnes</th>\n",
       "    </tr>\n",
       "  </thead>\n",
       "  <tbody>\n",
       "    <tr>\n",
       "      <th>count</th>\n",
       "      <td>13136.000000</td>\n",
       "      <td>13136.000000</td>\n",
       "      <td>13136.000000</td>\n",
       "      <td>13136.000000</td>\n",
       "      <td>13136.000000</td>\n",
       "    </tr>\n",
       "    <tr>\n",
       "      <th>mean</th>\n",
       "      <td>2001.617692</td>\n",
       "      <td>70959.634440</td>\n",
       "      <td>1157.599269</td>\n",
       "      <td>19.860883</td>\n",
       "      <td>14832.141503</td>\n",
       "    </tr>\n",
       "    <tr>\n",
       "      <th>std</th>\n",
       "      <td>7.035556</td>\n",
       "      <td>79111.427638</td>\n",
       "      <td>743.693891</td>\n",
       "      <td>6.740556</td>\n",
       "      <td>33646.165696</td>\n",
       "    </tr>\n",
       "    <tr>\n",
       "      <th>min</th>\n",
       "      <td>1990.000000</td>\n",
       "      <td>50.000000</td>\n",
       "      <td>51.000000</td>\n",
       "      <td>1.300000</td>\n",
       "      <td>0.040000</td>\n",
       "    </tr>\n",
       "    <tr>\n",
       "      <th>25%</th>\n",
       "      <td>1995.000000</td>\n",
       "      <td>18000.000000</td>\n",
       "      <td>608.000000</td>\n",
       "      <td>16.040000</td>\n",
       "      <td>264.582500</td>\n",
       "    </tr>\n",
       "    <tr>\n",
       "      <th>50%</th>\n",
       "      <td>2001.000000</td>\n",
       "      <td>39536.000000</td>\n",
       "      <td>1083.000000</td>\n",
       "      <td>20.870000</td>\n",
       "      <td>2170.400000</td>\n",
       "    </tr>\n",
       "    <tr>\n",
       "      <th>75%</th>\n",
       "      <td>2008.000000</td>\n",
       "      <td>97159.000000</td>\n",
       "      <td>1651.000000</td>\n",
       "      <td>25.850000</td>\n",
       "      <td>13335.220000</td>\n",
       "    </tr>\n",
       "    <tr>\n",
       "      <th>max</th>\n",
       "      <td>2013.000000</td>\n",
       "      <td>501412.000000</td>\n",
       "      <td>3240.000000</td>\n",
       "      <td>30.650000</td>\n",
       "      <td>367778.000000</td>\n",
       "    </tr>\n",
       "  </tbody>\n",
       "</table>\n",
       "</div>"
      ],
      "text/plain": [
       "               year          yield  average_rain_fall_mm_per_year  \\\n",
       "count  13136.000000   13136.000000                   13136.000000   \n",
       "mean    2001.617692   70959.634440                    1157.599269   \n",
       "std        7.035556   79111.427638                     743.693891   \n",
       "min     1990.000000      50.000000                      51.000000   \n",
       "25%     1995.000000   18000.000000                     608.000000   \n",
       "50%     2001.000000   39536.000000                    1083.000000   \n",
       "75%     2008.000000   97159.000000                    1651.000000   \n",
       "max     2013.000000  501412.000000                    3240.000000   \n",
       "\n",
       "           avg_temp  pesticides_tonnes  \n",
       "count  13136.000000       13136.000000  \n",
       "mean      19.860883       14832.141503  \n",
       "std        6.740556       33646.165696  \n",
       "min        1.300000           0.040000  \n",
       "25%       16.040000         264.582500  \n",
       "50%       20.870000        2170.400000  \n",
       "75%       25.850000       13335.220000  \n",
       "max       30.650000      367778.000000  "
      ]
     },
     "execution_count": 366,
     "metadata": {},
     "output_type": "execute_result"
    }
   ],
   "source": [
    "\n",
    "Merged_crop_data = total_crop_data.merge(aggregated_rainfall_data[[\"area\", \"year\",\"average_rain_fall_mm_per_year\"]], on=[\"area\", \"year\"])\n",
    "Merged_crop_data = Merged_crop_data.merge(aggregated_temperature_data, on=[\"area\", \"year\"])\n",
    "Merged_crop_data = Merged_crop_data.merge(aggregated_pesticides_data[[\"area\", \"year\", \"pesticides_tonnes\"]], on=[\"area\", \"year\"])\n",
    "\n",
    "# Preview merged data\n",
    "print(Merged_crop_data.head(2))\n",
    "Merged_crop_data.describe()\n"
   ]
  },
  {
   "cell_type": "markdown",
   "id": "8a022471-e638-428e-bb06-5816a5fbaf76",
   "metadata": {},
   "source": [
    "# Save the Final Merged Dataset!!!"
   ]
  },
  {
   "cell_type": "code",
   "execution_count": 383,
   "id": "b7ebb6e9-99c1-4004-b141-a5d835e1b6ce",
   "metadata": {},
   "outputs": [],
   "source": [
    "Merged_crop_data.to_csv('final_crop_yield_data.csv', index=False) "
   ]
  },
  {
   "cell_type": "code",
   "execution_count": 377,
   "id": "16c6e169-0309-4e91-a884-aa6e3bb484c5",
   "metadata": {},
   "outputs": [],
   "source": [
    "Merged_crop_data.to_pickle('final_crop_yield_data.pkl')"
   ]
  },
  {
   "cell_type": "markdown",
   "id": "1b10e501-6e5b-4fd5-9db7-8bd6fb3a1f80",
   "metadata": {},
   "source": [
    "# Foot Note"
   ]
  },
  {
   "cell_type": "markdown",
   "id": "d65fb510-bbbc-4e43-80a2-88c4ea35a16c",
   "metadata": {},
   "source": [
    "**It took me long time and lots of efort to clean this data, because I have used...**\n",
    "**Bootstrapping, Outlier detection and aggregation and other techniques like dropping years below 1961 so my datasize has reduced to 13136**\n",
    "**Lean and Smart Data**"
   ]
  },
  {
   "cell_type": "code",
   "execution_count": null,
   "id": "4c75462a-8a25-40b8-96b5-9bdf8c709fa2",
   "metadata": {},
   "outputs": [],
   "source": []
  },
  {
   "cell_type": "code",
   "execution_count": null,
   "id": "db593ca9-664d-4031-9b76-9d20fd40ddca",
   "metadata": {},
   "outputs": [],
   "source": []
  },
  {
   "cell_type": "code",
   "execution_count": null,
   "id": "e48e4582-d3d9-42b3-aa34-a1c8098224f6",
   "metadata": {},
   "outputs": [],
   "source": []
  },
  {
   "cell_type": "code",
   "execution_count": null,
   "id": "0a74f523-4ac9-492d-919c-6bb78d7ccacb",
   "metadata": {},
   "outputs": [],
   "source": []
  },
  {
   "cell_type": "code",
   "execution_count": null,
   "id": "adedc3d1-91b8-44d8-8106-4276ce94e8f1",
   "metadata": {},
   "outputs": [],
   "source": []
  },
  {
   "cell_type": "code",
   "execution_count": null,
   "id": "08e0c76d-0f43-499b-a81c-779f292b39d7",
   "metadata": {},
   "outputs": [],
   "source": []
  },
  {
   "cell_type": "code",
   "execution_count": null,
   "id": "793503e2-148f-409e-92f3-665d8aad04f3",
   "metadata": {},
   "outputs": [],
   "source": []
  },
  {
   "cell_type": "code",
   "execution_count": null,
   "id": "2c3efafd-d88c-4c66-a9a8-9cce52501c56",
   "metadata": {},
   "outputs": [],
   "source": []
  }
 ],
 "metadata": {
  "kernelspec": {
   "display_name": "Python [conda env:base] *",
   "language": "python",
   "name": "conda-base-py"
  },
  "language_info": {
   "codemirror_mode": {
    "name": "ipython",
    "version": 3
   },
   "file_extension": ".py",
   "mimetype": "text/x-python",
   "name": "python",
   "nbconvert_exporter": "python",
   "pygments_lexer": "ipython3",
   "version": "3.12.7"
  },
  "panel-cell-order": [
   "5f355408-b7e4-40f4-ae4e-f91a51bbf26d",
   "16ffc2f9-8b33-47e5-89a9-eff27270ad9b",
   "a6f6bc92-3ff2-4839-ac5c-91f295200790",
   "f2a298e7-bbab-4ee7-8ce5-e3e564e2b004"
  ]
 },
 "nbformat": 4,
 "nbformat_minor": 5
}
